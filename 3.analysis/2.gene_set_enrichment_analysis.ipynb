{
 "cells": [
  {
   "cell_type": "code",
   "execution_count": null,
   "metadata": {},
   "outputs": [],
   "source": [
    "import sys\n",
    "import pathlib\n",
    "import numpy as np\n",
    "import pandas as pd\n",
    "import matplotlib.pyplot as plt\n",
    "import tensorflow as tf\n",
    "import seaborn as sns\n",
    "import random\n",
    "\n",
    "sns.set_theme(color_codes=True)\n",
    "sys.path.insert(0, \".././0.data-download/scripts/\")\n",
    "\n",
    "from matplotlib.pyplot import figure, gcf\n",
    "from sklearn.decomposition import PCA\n",
    "from tensorflow import keras\n",
    "\n",
    "import blitzgsea as blitz\n",
    "import urllib.request\n",
    "\n",
    "# Download the gene set library here: https://github.com/MaayanLab/blitzgsea\n"
   ]
  },
  {
   "cell_type": "code",
   "execution_count": null,
   "metadata": {},
   "outputs": [],
   "source": [
    "random.seed(18)\n",
    "print(random.random())"
   ]
  },
  {
   "cell_type": "code",
   "execution_count": null,
   "metadata": {},
   "outputs": [],
   "source": [
    "# list available gene set libraries in Enrichr\n",
    "blitz.enrichr.print_libraries()"
   ]
  },
  {
   "cell_type": "code",
   "execution_count": null,
   "metadata": {},
   "outputs": [],
   "source": [
    "# use enrichr submodule to retrieve gene set library\n",
    "# these libraries are finicky to work with--they usually work the first time but then may stop working. You may need to remove the library from your computer and trying to reimport it to work again.\n",
    "library = blitz.enrichr.get_library(\"GO_Biological_Process_2017\")"
   ]
  },
  {
   "cell_type": "code",
   "execution_count": null,
   "metadata": {},
   "outputs": [],
   "source": [
    "# load the weight matrix \n",
    "gene_weight_dir = pathlib.Path(\"../2.train-VAE//results/weight_matrix_gsea.csv\")\n",
    "signature = pd.read_csv(gene_weight_dir)\n",
    "print(signature.shape)\n",
    "signature.head()"
   ]
  },
  {
   "cell_type": "code",
   "execution_count": null,
   "metadata": {},
   "outputs": [],
   "source": [
    "all_GSEA_results = []\n",
    "all_signatures = []\n",
    "#negative_control = []\n",
    "for col in signature.iloc[:,1:50].columns:\n",
    "    df = signature.iloc[:,[0,int(col)]]\n",
    "    result = blitz.gsea(df, library)\n",
    "    all_GSEA_results.append(result.assign(z_dim=f\"z_{col}\"))\n",
    "    all_signatures.append(df)\n",
    "    #add line here to create a negative control--this will be a random scramble of the gene scores\n",
    "all_GSEA_results"
   ]
  },
  {
   "cell_type": "code",
   "execution_count": null,
   "metadata": {},
   "outputs": [],
   "source": [
    "# stack up all of the results to be analyzed\n",
    "all_GSEA_results= pd.concat(all_GSEA_results)"
   ]
  },
  {
   "cell_type": "code",
   "execution_count": null,
   "metadata": {},
   "outputs": [],
   "source": [
    "# sort by what you want to evaluate\n",
    "all_GSEA_results.sort_values(by='es', ascending=False)"
   ]
  },
  {
   "cell_type": "code",
   "execution_count": null,
   "metadata": {},
   "outputs": [],
   "source": [
    "plt.show(plt.scatter(x=all_GSEA_results['es'],y=all_GSEA_results['pval'].apply(lambda x:-np.log10(x)),s=1))"
   ]
  },
  {
   "cell_type": "code",
   "execution_count": null,
   "metadata": {},
   "outputs": [],
   "source": [
    "# plot the enrichment results and save to png--this code needs some work done to it in order to work!\n",
    "\n",
    "# must turn signature into 2 column df for blitz plot\n",
    "genes_signature = signature['0']\n",
    "avgs_signature = signature.mean(axis=1, numeric_only=True)  \n",
    "avg_signature = pd.DataFrame({\"Gene\": genes_signature, 'Average Enrichment': avgs_signature})\n",
    "\n",
    "fig = blitz.plot.running_sum(avg_signature, \"mitochondrial translational elongation (GO:0070125)\", library, result=result, compact=False)\n",
    "fig.savefig(\"running_sum.png\", bbox_inches='tight')\n",
    "\n",
    "fig_compact = blitz.plot.running_sum(avg_signature, \"mitochondrial translational elongation (GO:0070125)\", library, result=result, compact=True)\n",
    "fig_compact.savefig(\"running_sum_compact.png\", bbox_inches='tight')\n",
    "\n",
    "fig_table = blitz.plot.top_table(avg_signature, library, result, n=15)\n",
    "fig_table.savefig(\"top_table.png\", bbox_inches='tight')"
   ]
  }
 ],
 "metadata": {
  "kernelspec": {
   "display_name": "gene_dependency_representations",
   "language": "python",
   "name": "python3"
  },
  "language_info": {
   "codemirror_mode": {
    "name": "ipython",
    "version": 3
   },
   "file_extension": ".py",
   "mimetype": "text/x-python",
   "name": "python",
   "nbconvert_exporter": "python",
   "pygments_lexer": "ipython3",
   "version": "3.10.9"
  },
  "orig_nbformat": 4,
  "vscode": {
   "interpreter": {
    "hash": "dea262fe473c2a7265de16dc303f906b3f1b3217055f2dca7dbe6a97a0d596fd"
   }
  }
 },
 "nbformat": 4,
 "nbformat_minor": 2
}
