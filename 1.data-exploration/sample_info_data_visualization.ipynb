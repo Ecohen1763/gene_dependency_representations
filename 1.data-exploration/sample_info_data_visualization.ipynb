{
 "cells": [
  {
   "cell_type": "code",
   "execution_count": null,
   "metadata": {},
   "outputs": [],
   "source": [
    "\n",
    "# import the necessary packages that will be utilized\n",
    "import numpy as np\n",
    "import matplotlib.pyplot as plt\n",
    "import pandas as pd \n",
    "import pathlib\n",
    "import seaborn as sns\n",
    "import plotnine as gg\n",
    "from plotnine import *\n",
    "import warnings\n",
    "warnings.filterwarnings('ignore')"
   ]
  },
  {
   "cell_type": "code",
   "execution_count": null,
   "metadata": {},
   "outputs": [],
   "source": [
    "# assign the desired file a variable using pathlib.Path command\n",
    "input_file = pathlib.Path(\"../0.data-download/data/sample_info.csv\")\n",
    "\n",
    "# set the data frame to be the desired .csv file that is read by pandas(pd) using the pd.read_csv(desired file read as a previously defined variable)\n",
    "df = pd.read_csv(input_file)\n",
    "\n",
    "# assign the desired file a variable using pathlib.Path command\n",
    "input_file2 = pathlib.Path(\"../0.data-download/data/CRISPR_gene_dependency.csv\")\n",
    "\n",
    "# set the data frame to be the desired .csv file that is read by pandas(pd) using the pd.read_csv(desired file read as a previously defined variable)\n",
    "df2 = pd.read_csv(input_file2)"
   ]
  },
  {
   "cell_type": "code",
   "execution_count": null,
   "metadata": {},
   "outputs": [],
   "source": [
    "# print the parameters of the read file\n",
    "print(df.shape)\n",
    "df.head(1)"
   ]
  },
  {
   "cell_type": "code",
   "execution_count": null,
   "metadata": {},
   "outputs": [],
   "source": [
    "# print the parameters of the read file\n",
    "print(df2.shape)\n",
    "df2.head(1)"
   ]
  },
  {
   "cell_type": "code",
   "execution_count": null,
   "metadata": {},
   "outputs": [],
   "source": [
    "90\n",
    "%matplotlib inline\n",
    "\n",
    "# sample_info.csv visualization\n",
    "# how many samples from sample_info.csv?\n",
    "n_samples = len(df[\"DepMap_ID\"].unique())\n",
    "print(f\"Number of Samples Documented in sample_info.csv: {n_samples} \\n\")\n",
    "\n",
    "# sample_info.csv visualization\n",
    "# how many samples from CRISPR_gene_dependency.csv?\n",
    "n_samples2 = len(df2[\"DepMap_ID\"].unique())\n",
    "print(f\"Number of Samples Included in CRISPR_gene_dependency.csv: {n_samples2} \\n\")\n",
    "\n",
    "# how many different ages were sampled from? \n",
    "all_ages = df[\"age\"].unique()\n",
    "print(f\"Ages sampled from: \\n {all_ages} \\n\")\n",
    "\n",
    "\n",
    "# how many different types of cancer?\n",
    "all_cancers = df[\"primary_disease\"].unique()\n",
    "print(f\"All Cancer Types: \\n {all_cancers} \\n\")\n",
    "\n",
    "# create a bar chart that shows the number of types of cancer sampled \n",
    "data = df\n",
    "g = (\n",
    "    gg.ggplot(data, gg.aes(x=\"primary_disease\")) + gg.geom_bar() + gg.theme(axis_text_x =element_text(angle = 90))\n",
    "    )\n",
    "print(g)\n",
    "\n",
    "# identify which samples are included in both sample_info.csv and CRISPR_gene_dependency.csv\n",
    "similar_samples = list(set(df[\"DepMap_ID\"]) & set(df2[\"DepMap_ID\"]))\n",
    "#print(similar_samples)\n",
    "\n",
    "# count the number of samples that overlap in both data sets \n",
    "sample_overlap = len(similar_samples)\n",
    "print(f\"number of sample overlaps between sample_info.csv and CRISPR_gene_dependency.csv: {sample_overlap} \\n\")"
   ]
  },
  {
   "cell_type": "code",
   "execution_count": 95,
   "metadata": {},
   "outputs": [
    {
     "name": "stdout",
     "output_type": "stream",
     "text": [
      "<bound method Series.info of 0       <NA>\n",
      "1         11\n",
      "2         55\n",
      "3         48\n",
      "4       <NA>\n",
      "        ... \n",
      "1835      42\n",
      "1836    <NA>\n",
      "1837       1\n",
      "1838    <NA>\n",
      "1839      71\n",
      "Name: age, Length: 1840, dtype: string>\n",
      "0    <NA>\n",
      "1      11\n",
      "2      55\n",
      "3      48\n",
      "4    <NA>\n",
      "Name: age, dtype: string\n"
     ]
    }
   ],
   "source": [
    "df_copy = df[\"age\"]\n",
    "\n",
    "df_copy = df_copy.convert_dtypes()\n",
    "\n",
    "df_copy.loc[(df[\"age\"] == \" \")] = \"N/A\"\n",
    "\n",
    "\n",
    "\n",
    "print(df_copy.info)\n",
    "\n",
    "print(df_copy.head(5))\n",
    "\n",
    "\n",
    "\n",
    "\n",
    "# if df_copy != \"Adult\" | \"Pediatric\" | \"N/A\" | \"Fetus\":\n",
    "\n",
    "\n",
    "\n",
    "\n",
    "\n",
    "\n",
    "# if df_copy \n",
    "#     df_copy.convert_dtypes(int)\n",
    "#     if df_copy >= 18 \n",
    "        \n",
    "# elif df_copy == \"Pediatric\":\n",
    "#     nv = \"Pediatric\"\n",
    "# elif (isinstance(df_copy, int)):\n",
    "#     if(df_copy >= 18):\n",
    "#         nv1 = \"Adult\"\n",
    "# else:\n",
    "#     nv2 = \"Pediatric\"\n",
    "\n",
    "\n",
    "\n",
    "### or instead of 4 lines for the if/else...\n",
    "# new_variable = \"Adult\" if df_copy >= 18 else \"Pediatric\"\n",
    "# elif(bool(df_copy)): #I think this should check if the variable is empty of blank\n",
    "# new_variable=\"NA\" #or whatever\n",
    "# else:\n",
    "# print(df_copy) #just to see what makes it through the gauntlet of if/elifs\n",
    "\n",
    " \n",
    "\n",
    "\n",
    "# str(\"Adult\" | \"Pediatric\" | \"Fetus\" | \"N/A\")\n",
    "# .loc[:, \"age\"][df_copy.age.isnull()] = str(\"N/A\")\n",
    "\n",
    "\n",
    "\n",
    "# df_copy.head(1)\n",
    "# if df_copy.loc[:, \"age\"][df_copy.age] == str(\"\"):\n",
    "#     df_copy.loc[:, \"age\"][df_copy.age] = str(\"coolio\")\n",
    "# elif df_copy.loc[:, \"age\"].astype(int)[df_copy.age] >= 18:\n",
    "#     df_copy.loc[:, \"age\"][df_copy.age] = str(\"Adult\")\n",
    "# else:\n",
    "#     df_copy.loc[:, \"age\"][df_copy.age] = str(\"Pediatric\")\n",
    "\n",
    "    "
   ]
  },
  {
   "cell_type": "code",
   "execution_count": 96,
   "metadata": {},
   "outputs": [],
   "source": [
    "# create a new data frame that will assign blank cells a value of 0\n",
    "\n",
    "#ped_adult_count = df.loc[df[\"age\"] ]\n",
    "\n",
    "\n",
    "#ped_adult_count.loc[(df[\"age\"] == \"Adult\")] = 18\n",
    "\n",
    "#ped_adult_count.loc[(df[\"age\"] == \"Pediatric\")] = 1\n",
    "\n",
    "#ped_adult_count.loc[(df[\"age\"] == \"Fetus\")] = -1\n",
    "\n",
    "\n",
    "#age_col = df[\"age\"]\n",
    "\n",
    "#if age_col >= 18:\n",
    "    #str(\"Adult\")\n",
    "\n",
    "\n",
    "\n",
    "\n",
    "#ped_adult_count_plot = (\n",
    "  #  gg.ggplot(ped_adult_count, gg.aes(x=\"age\")) + gg.geom_bar() + gg.theme(axis_text_x =element_text(angle = 90))\n",
    "#)\n",
    "\n",
    "#print(ped_adult_count_plot)"
   ]
  },
  {
   "cell_type": "code",
   "execution_count": 97,
   "metadata": {},
   "outputs": [
    {
     "data": {
      "image/png": "[encoded data removed]",
      "text/plain": [
       "<Figure size 640x480 with 1 Axes>"
      ]
     },
     "metadata": {},
     "output_type": "display_data"
    },
    {
     "name": "stdout",
     "output_type": "stream",
     "text": [
      "\n"
     ]
    }
   ],
   "source": [
    "gendersamp = df\n",
    "gendersamp_plot = (\n",
    "    gg.ggplot(gendersamp, gg.aes(x=\"sex\")) + gg.geom_bar() #+ gg.theme(axis_text_x =element_text(angle = 90))\n",
    ")\n",
    "print(gendersamp_plot)"
   ]
  },
  {
   "cell_type": "code",
   "execution_count": 98,
   "metadata": {},
   "outputs": [],
   "source": [
    "# \"Adult\" was set to 18\n",
    "# \"Pediatric\" was set to 0\n",
    "# \"Fetus\" was set to 0\n",
    "\n",
    "# create a new data frame that excludes blank cells in the data sets \"Age\" column\n",
    "no_nan_age_df = df.loc[df[\"age\"].notnull()]\n",
    "\n",
    "# create a new data frame that will also assign the integer value of 18 to cells containing \"Adult\"\n",
    "no_nan_age_df.loc[(df[\"age\"] == \"Adult\")] = 18\n",
    "\n",
    "# create a new data frame that will also assign the integer value of 0 to cells containing \"Pediatric\"\n",
    "no_nan_age_df.loc[(df[\"age\"] == \"Pediatric\")] = 0\n",
    "\n",
    "# create a new data frame that will also assign the integer value of -1 to cells containg \"Fetus\"\n",
    "no_nan_age_df.loc[(df[\"age\"] == \"Fetus\")] = -1\n",
    "\n",
    "\n",
    "\n",
    "adult_df = no_nan_age_df.loc[no_nan_age_df[\"age\"].astype(int) >= 18]\n",
    "adult_df = adult_df.astype({\"age\": int})\n",
    "pediatric_df = no_nan_age_df.loc[(no_nan_age_df[\"age\"].astype(int) < 18) & (no_nan_age_df[\"age\"].astype(int) != -1)]\n",
    "pediatric_df = pediatric_df.astype({\"age\": int})\n"
   ]
  },
  {
   "cell_type": "code",
   "execution_count": 99,
   "metadata": {},
   "outputs": [
    {
     "data": {
      "text/plain": [
       "<AxesSubplot:xlabel='age', ylabel='Count'>"
      ]
     },
     "execution_count": 99,
     "metadata": {},
     "output_type": "execute_result"
    },
    {
     "data": {
      "image/png": "[encoded data removed]",
      "text/plain": [
       "<Figure size 900x600 with 2 Axes>"
      ]
     },
     "metadata": {
      "needs_background": "light"
     },
     "output_type": "display_data"
    }
   ],
   "source": [
    "ig, axs = plt.subplots(1, 2, dpi=150)\n",
    "\n",
    "# plot adult age distribution \n",
    "sns.histplot(x=\"age\", data=adult_df, stat=\"count\", ax=axs[1])\n",
    "\n",
    "# plot pediatric age distribution\n",
    "sns.histplot(x=\"age\", data=pediatric_df, stat=\"count\", ax=axs[0])\n",
    "\n",
    "# visualizes the general distribution of ages sampled from"
   ]
  }
 ],
 "metadata": {
  "kernelspec": {
   "display_name": "Python 3.9.13 ('test01')",
   "language": "python",
   "name": "python3"
  },
  "language_info": {
   "codemirror_mode": {
    "name": "ipython",
    "version": 3
   },
   "file_extension": ".py",
   "mimetype": "text/x-python",
   "name": "python",
   "nbconvert_exporter": "python",
   "pygments_lexer": "ipython3",
   "version": "3.9.13"
  },
  "orig_nbformat": 4,
  "vscode": {
   "interpreter": {
    "hash": "1ff7713d8118d5506f8e0ae56552dff893522aad5f6e7dcbaae6836972cc1384"
   }
  }
 },
 "nbformat": 4,
 "nbformat_minor": 2
}
