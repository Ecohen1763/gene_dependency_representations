{
 "cells": [
  {
   "cell_type": "code",
   "execution_count": null,
   "metadata": {},
   "outputs": [],
   "source": [
    "import sys\n",
    "import pathlib\n",
    "import numpy as np\n",
    "import pandas as pd\n",
    "import plotnine as p9\n",
    "import matplotlib.pyplot as plt\n",
    "from scipy.stats import ttest_ind\n",
    "import warnings\n",
    "\n",
    "warnings.filterwarnings(\"ignore\")\n",
    "sys.path.insert(0, \"../0.data-download/scripts/\")\n",
    "from data_loader import load_data, load_train_test_data"
   ]
  },
  {
   "cell_type": "code",
   "execution_count": null,
   "metadata": {},
   "outputs": [],
   "source": [
    "# data path\n",
    "data_directory = \"../0.data-download/data/\""
   ]
  },
  {
   "cell_type": "code",
   "execution_count": null,
   "metadata": {},
   "outputs": [],
   "source": [
    "# load the training data\n",
    "dfs_test, dfs, data = load_train_test_data(\n",
    "    data_directory, train_or_test=\"all\", load_gene_stats=False\n",
    ")"
   ]
  },
  {
   "cell_type": "code",
   "execution_count": null,
   "metadata": {},
   "outputs": [],
   "source": [
    "# set a unique dataframe that can be appended from\n",
    "training_df_age = dfs\n",
    "\n",
    "# group by age and create new dataframes that can be appended to\n",
    "groups = training_df_age.groupby(\"age_and_sex\")\n",
    "adult_dependency_df = pd.DataFrame()\n",
    "ped_dependency_df = pd.DataFrame()\n",
    "for name, training_df_age in groups:\n",
    "\n",
    "    # append rows that contain Adult samples (male or female) to the new adult dependency dataframe\n",
    "    if name == \"Adult_Male\" or name == \"Adult_Female\" or name == \"Adult_nan\":\n",
    "        adult_dependency_df = adult_dependency_df.append(training_df_age)\n",
    "        adult_dependency_df = adult_dependency_df.reset_index(drop=True)\n",
    "\n",
    "    # append rows that contain Pediatric samples (male ore female) to the new pediatric dataframe\n",
    "    else:\n",
    "        ped_dependency_df = ped_dependency_df.append(training_df_age)\n",
    "        ped_dependency_df = ped_dependency_df.reset_index(drop=True)"
   ]
  },
  {
   "cell_type": "code",
   "execution_count": null,
   "metadata": {},
   "outputs": [],
   "source": [
    "# set a unique dataframe that can be appended from\n",
    "training_df_sex = dfs\n",
    "\n",
    "# group by sex and create new dataframes to be appended to\n",
    "groups_sex = training_df_sex.groupby(\"age_and_sex\")\n",
    "male_dependency_df = pd.DataFrame()\n",
    "female_dependency_df = pd.DataFrame()\n",
    "for name, training_df_sex in groups_sex:\n",
    "\n",
    "    # append rows that contain Male samples (Adult or Pediatric) to the new male dependency dataframe and filter out samples that contain no gender info\n",
    "    if (\n",
    "        name == \"Adult_Male\"\n",
    "        or name == \"Pediatric_Male\"\n",
    "        and name != \"Pediatric_nan\"\n",
    "        and name != \"Adult_nan\"\n",
    "    ):\n",
    "        male_dependency_df = male_dependency_df.append(training_df_sex)\n",
    "        male_dependency_df = male_dependency_df.reset_index(drop=True)\n",
    "\n",
    "    # append rows that contain Female samples (Adult or Pediatric) to the new female dependency dataframe and filter out samples that contain no gender info\n",
    "    elif (\n",
    "        name == \"Adult_Female\"\n",
    "        or name == \"Pediatric_Female\"\n",
    "        and name != \"Pediatric_nan\"\n",
    "        and name != \"Adult_nan\"\n",
    "    ):\n",
    "        female_dependency_df = female_dependency_df.append(training_df_sex)\n",
    "        female_dependency_df = female_dependency_df.reset_index(drop=True)"
   ]
  },
  {
   "cell_type": "code",
   "execution_count": null,
   "metadata": {},
   "outputs": [],
   "source": [
    "print(adult_dependency_df.shape)\n",
    "adult_dependency_df.head(3)"
   ]
  },
  {
   "cell_type": "code",
   "execution_count": null,
   "metadata": {},
   "outputs": [],
   "source": [
    "print(ped_dependency_df.shape)\n",
    "ped_dependency_df.head(3)"
   ]
  },
  {
   "cell_type": "code",
   "execution_count": null,
   "metadata": {},
   "outputs": [],
   "source": [
    "print(male_dependency_df.shape)\n",
    "male_dependency_df.head(3)"
   ]
  },
  {
   "cell_type": "code",
   "execution_count": null,
   "metadata": {},
   "outputs": [],
   "source": [
    "print(female_dependency_df.shape)\n",
    "female_dependency_df.head(3)"
   ]
  },
  {
   "cell_type": "code",
   "execution_count": null,
   "metadata": {},
   "outputs": [],
   "source": [
    "# drop the string values from all dataframes\n",
    "adult_dependency_df_float = adult_dependency_df.drop(\n",
    "    columns=[\"DepMap_ID\", \"age_and_sex\"]\n",
    ")\n",
    "ped_dependency_df_float = ped_dependency_df.drop(columns=[\"DepMap_ID\", \"age_and_sex\"])\n",
    "\n",
    "male_dependency_df_float = male_dependency_df.drop(columns=[\"DepMap_ID\", \"age_and_sex\"])\n",
    "female_dependency_df_float = female_dependency_df.drop(\n",
    "    columns=[\"DepMap_ID\", \"age_and_sex\"]\n",
    ")\n",
    "\n",
    "dependency_df = dfs.drop(columns=\"age_and_sex\")\n",
    "dependency_df = dependency_df.set_index(\"DepMap_ID\")"
   ]
  },
  {
   "cell_type": "code",
   "execution_count": null,
   "metadata": {},
   "outputs": [],
   "source": [
    "# t_test comparing gene dependencies in adult vs pediatric samples\n",
    "t_test = ttest_ind(adult_dependency_df_float, ped_dependency_df_float)\n",
    "t_test = pd.DataFrame(t_test).T\n",
    "t_test.columns = [\"t_stat\", \"p_value\"]\n",
    "print(t_test.shape)\n",
    "t_test.head(3)"
   ]
  },
  {
   "cell_type": "code",
   "execution_count": null,
   "metadata": {},
   "outputs": [],
   "source": [
    "# t_test comparing gene dependencies in male vs female samples\n",
    "t_test_sex = ttest_ind(male_dependency_df_float, female_dependency_df_float)\n",
    "t_test_sex = pd.DataFrame(t_test_sex).T\n",
    "t_test_sex.columns = [\"t_stat\", \"p_value\"]\n",
    "print(t_test_sex.shape)\n",
    "t_test_sex.head(3)"
   ]
  },
  {
   "cell_type": "code",
   "execution_count": null,
   "metadata": {},
   "outputs": [],
   "source": [
    "print(dependency_df.shape)\n",
    "dependency_df.head(3)"
   ]
  },
  {
   "cell_type": "code",
   "execution_count": null,
   "metadata": {},
   "outputs": [],
   "source": [
    "# calculate variance of each gene then send the results plus the gene info into a new dataframe\n",
    "variance = dependency_df.var()\n",
    "variance_list = variance.tolist()\n",
    "column_names = [\"variance\"]\n",
    "variance_df = pd.DataFrame(variance, columns=column_names)\n",
    "variance_df = variance_df.sort_index(ascending=True).reset_index()\n",
    "variance_df = variance_df.rename(columns={\"index\": \"gene_ID\"})\n",
    "print(variance_df.shape)\n",
    "variance_df.head(3)"
   ]
  },
  {
   "cell_type": "code",
   "execution_count": null,
   "metadata": {},
   "outputs": [],
   "source": [
    "# finding the smallest gene variation out of the 1000 largest gene variations to set the top 1000 gene variances threshold\n",
    "n = variance_df[\"variance\"].nlargest(1000)\n",
    "variance_theshold = n.astype(float).min()\n",
    "\n",
    "# plotting variance density chart and marking the 1000 largest gene variation cutoff\n",
    "variance_density_plot = (\n",
    "    p9.ggplot(variance_df, p9.aes(x=\"variance\"))\n",
    "    + p9.geom_density()\n",
    "    + p9.geom_vline(xintercept=variance_theshold, linetype=\"dashed\", color=\"red\")\n",
    "    + p9.theme(figure_size=(10, 6))\n",
    ")\n",
    "\n",
    "# save the figure\n",
    "density_path = pathlib.Path(\"./figures/variance_density_plot.png\")\n",
    "variance_density_plot.save(density_path)\n",
    "variance_density_plot"
   ]
  },
  {
   "cell_type": "code",
   "execution_count": null,
   "metadata": {},
   "outputs": [],
   "source": [
    "# first create new dataframe containing gene info as well as both adult-pediatric and male-female t-test results and variance results\n",
    "df = variance_df.assign(\n",
    "    ttest_A_vs_P=t_test.t_stat.astype(float),\n",
    "    ttest_M_vs_F=t_test_sex.t_stat.astype(float),\n",
    ")\n",
    "\n",
    "# and save the new dataframe as a .csv\n",
    "testing_df_output = pathlib.Path(\n",
    "    \"../0.data-download/data/genes_variances_and_t-tests_df.csv\"\n",
    ")\n",
    "df.to_csv(testing_df_output, index=False)\n",
    "print(df.shape)\n",
    "df.head(3)"
   ]
  },
  {
   "cell_type": "code",
   "execution_count": null,
   "metadata": {},
   "outputs": [],
   "source": [
    "# plot adult-pediatric ttest versus variance\n",
    "A_vs_P_by_variance_plot = (\n",
    "    p9.ggplot(data=df, mapping=p9.aes(x=\"variance\", y=\"ttest_A_vs_P\"))\n",
    "    + p9.geom_point(size=0.4, alpha=0.1, color=\"blue\")\n",
    "    + p9.theme(figure_size=(10, 7))\n",
    ")\n",
    "\n",
    "# save the figure\n",
    "adult_vs_pediatric_path = pathlib.Path(\n",
    "    \"./figures/adult-pediatric_ttest_vs_variance.png\"\n",
    ")\n",
    "A_vs_P_by_variance_plot.save(adult_vs_pediatric_path)\n",
    "A_vs_P_by_variance_plot"
   ]
  },
  {
   "cell_type": "code",
   "execution_count": null,
   "metadata": {},
   "outputs": [],
   "source": [
    "# plot male-female ttest versus gene variance\n",
    "M_vs_F_by_variance_plot = (\n",
    "    p9.ggplot(data=df, mapping=p9.aes(x=\"variance\", y=\"ttest_M_vs_F\"))\n",
    "    + p9.geom_point(size=0.4, alpha=0.1, color=\"blue\")\n",
    "    + p9.theme(figure_size=(10, 7))\n",
    ")\n",
    "\n",
    "# save the figure\n",
    "male_vs_female_path = pathlib.Path(\"./figures/male-female_ttest_vs_variance.png\")\n",
    "M_vs_F_by_variance_plot.save(male_vs_female_path)\n",
    "M_vs_F_by_variance_plot"
   ]
  }
 ],
 "metadata": {
  "kernelspec": {
   "display_name": "gene_dependency_representations",
   "language": "python",
   "name": "python3"
  },
  "language_info": {
   "codemirror_mode": {
    "name": "ipython",
    "version": 3
   },
   "file_extension": ".py",
   "mimetype": "text/x-python",
   "name": "python",
   "nbconvert_exporter": "python",
   "pygments_lexer": "ipython3",
   "version": "3.10.9"
  },
  "orig_nbformat": 4,
  "vscode": {
   "interpreter": {
    "hash": "dea262fe473c2a7265de16dc303f906b3f1b3217055f2dca7dbe6a97a0d596fd"
   }
  }
 },
 "nbformat": 4,
 "nbformat_minor": 2
}
