{
 "cells": [
  {
   "cell_type": "code",
   "execution_count": 8,
   "metadata": {},
   "outputs": [
    {
     "data": {
      "text/plain": [
       "('/home/markw/gene_dependency_representations/0.data-download/data/sample_info.csv',\n",
       " <http.client.HTTPMessage at 0x7fe3b5646760>)"
      ]
     },
     "execution_count": 8,
     "metadata": {},
     "output_type": "execute_result"
    }
   ],
   "source": [
    "import urllib.request\n",
    "CRISPR_gene_dependency = \"https://ndownloader.figshare.com/files/34990033\"\n",
    "sample_info = \"https://ndownloader.figshare.com/files/35020903\"\n",
    "urllib.request.urlretrieve(CRISPR_gene_dependency, '/home/markw/gene_dependency_representations/0.data-download/data/CRISPR_gene_dependency.csv')\n",
    "urllib.request.urlretrieve(sample_info, '/home/markw/gene_dependency_representations/0.data-download/data/sample_info.csv')\n"
   ]
  }
 ],
 "metadata": {
  "kernelspec": {
   "display_name": "Python 3.9.13 ('test01')",
   "language": "python",
   "name": "python3"
  },
  "language_info": {
   "codemirror_mode": {
    "name": "ipython",
    "version": 3
   },
   "file_extension": ".py",
   "mimetype": "text/x-python",
   "name": "python",
   "nbconvert_exporter": "python",
   "pygments_lexer": "ipython3",
   "version": "3.9.13"
  },
  "orig_nbformat": 4,
  "vscode": {
   "interpreter": {
    "hash": "1ff7713d8118d5506f8e0ae56552dff893522aad5f6e7dcbaae6836972cc1384"
   }
  }
 },
 "nbformat": 4,
 "nbformat_minor": 2
}
